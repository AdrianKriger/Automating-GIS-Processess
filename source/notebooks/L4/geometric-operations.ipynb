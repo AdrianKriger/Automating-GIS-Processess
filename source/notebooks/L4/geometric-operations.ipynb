{
 "cells": [
  {
   "cell_type": "markdown",
   "metadata": {},
   "source": [
    "# Geometric operations\n",
    "\n",
    "## Overlay analysis\n",
    "\n",
    "In this tutorial, the aim is to make an overlay analysis where we create a new layer based on geometries from a dataset that `intersect` with geometries of another layer. As our test case, we will select Polygon grid cells from `TravelTimes_to_5975375_RailwayStation_Helsinki.shp` that intersects with municipality borders of Helsinki found in `Helsinki_borders.shp`.\n",
    "\n",
    "Typical overlay operations are (source: [QGIS docs](https://docs.qgis.org/2.8/en/docs/gentle_gis_introduction/vector_spatial_analysis_buffers.html#more-spatial-analysis-tools)):\n",
    "![](img/overlay_operations.png)\n",
    "\n",
    "## Download data\n",
    "\n",
    "For this lesson, you should [download a data package](https://github.com/AutoGIS/data/raw/master/L4_data.zip) that includes 3 files:\n",
    "\n",
    " 1. Helsinki_borders.shp\n",
    " 2. Travel_times_to_5975375_RailwayStation.shp\n",
    " 3. Amazon_river.shp\n",
    " \n",
    "```\n",
    "$ cd /home/jovyan/notebooks/L4\n",
    "$ wget https://github.com/AutoGIS/data/raw/master/L4_data.zip\n",
    "$ unzip L4_data.zip\n",
    "```\n",
    "\n",
    "Let's first read the data and see how they look like.\n",
    "\n",
    "- Import required packages and read in the input data:"
   ]
  },
  {
   "cell_type": "code",
   "execution_count": 1,
   "metadata": {},
   "outputs": [],
   "source": [
    "import geopandas as gpd\n",
    "import matplotlib.pyplot as plt\n",
    "import shapely.speedups\n",
    "%matplotlib inline\n",
    "\n",
    "# File paths\n",
    "border_fp = \"data/Helsinki_borders.shp\"\n",
    "grid_fp = \"data/TravelTimes_to_5975375_RailwayStation.shp\"\n",
    "\n",
    "# Read files\n",
    "grid = gpd.read_file(grid_fp)\n",
    "hel = gpd.read_file(border_fp)"
   ]
  },
  {
   "cell_type": "markdown",
   "metadata": {},
   "source": [
    "- Visualize the layers:"
   ]
  },
  {
   "cell_type": "code",
   "execution_count": 2,
   "metadata": {},
   "outputs": [
    {
     "data": {
      "text/plain": [
       "<matplotlib.axes._subplots.AxesSubplot at 0x1310b507c50>"
      ]
     },
     "execution_count": 2,
     "metadata": {},
     "output_type": "execute_result"
    },
    {
     "data": {
      "image/png": "[encoded data removed]",
      "text/plain": [
       "<Figure size 432x288 with 1 Axes>"
      ]
     },
     "metadata": {
      "needs_background": "light"
     },
     "output_type": "display_data"
    }
   ],
   "source": [
    "# Plot the layers\n",
    "ax = grid.plot(facecolor='gray')\n",
    "hel.plot(ax=ax, facecolor='None', edgecolor='blue')"
   ]
  },
  {
   "cell_type": "markdown",
   "metadata": {},
   "source": [
    "Here the grey area is the Travel Time Matrix grid (13231 grid squares) that covers the Helsinki region, and the blue area represents the municipality of Helsinki. Our goal is to conduct an overlay analysis and select the geometries from the grid polygon layer that intersect with the Helsinki municipality polygon.\n",
    "\n",
    "When conducting overlay analysis, it is important to check that the CRS of the layers match!\n",
    "\n",
    "- Check if Helsinki polygon and the grid polygon are in the same crs:"
   ]
  },
  {
   "cell_type": "code",
   "execution_count": 3,
   "metadata": {},
   "outputs": [],
   "source": [
    "# Ensure that the CRS matches, if not raise an AssertionError\n",
    "assert hel.crs == grid.crs, \"CRS differs between layers!\""
   ]
  },
  {
   "cell_type": "markdown",
   "metadata": {},
   "source": [
    "Indeed, they do. Hence, the pre-requisite to conduct spatial operations between the layers is fullfilled (also the map we plotted indicated this).\n",
    "\n",
    "- Let's do an overlay analysis and create a new layer from polygons of the grid that `intersect` with our Helsinki layer. We can use a function called `overlay()` to conduct the overlay analysis that takes as an input 1) the GeoDataFrame where the selection is taken, 2) the GeoDataFrame used for making the selection, and 3) parameter `how` that can be used to control how the overlay analysis is conducted (possible values are `'intersection'`, `'union'`, `'symmetric_difference'`, `'difference'`, and `'identity'`):"
   ]
  },
  {
   "cell_type": "code",
   "execution_count": 4,
   "metadata": {},
   "outputs": [],
   "source": [
    "intersection = gpd.overlay(grid, hel, how='intersection')"
   ]
  },
  {
   "cell_type": "markdown",
   "metadata": {},
   "source": [
    "- Let's plot our data and see what we have:"
   ]
  },
  {
   "cell_type": "code",
   "execution_count": 5,
   "metadata": {},
   "outputs": [
    {
     "data": {
      "text/plain": [
       "<matplotlib.axes._subplots.AxesSubplot at 0x1310c63f6a0>"
      ]
     },
     "execution_count": 5,
     "metadata": {},
     "output_type": "execute_result"
    },
    {
     "data": {
      "image/png": "[encoded data removed]",
      "text/plain": [
       "<Figure size 432x288 with 1 Axes>"
      ]
     },
     "metadata": {
      "needs_background": "light"
     },
     "output_type": "display_data"
    }
   ],
   "source": [
    "intersection.plot(color=\"b\")"
   ]
  },
  {
   "cell_type": "markdown",
   "metadata": {},
   "source": [
    "As a result, we now have only those grid cells that intersect with the Helsinki borders. As we can see **the grid cells are clipped based on the boundary.**\n",
    "\n",
    "- Whatabout the data attributes? Let's see what we have:\n"
   ]
  },
  {
   "cell_type": "code",
   "execution_count": 6,
   "metadata": {},
   "outputs": [
    {
     "name": "stdout",
     "output_type": "stream",
     "text": [
      "   car_m_d  car_m_t  car_r_d  car_r_t  from_id  pt_m_d  pt_m_t  pt_m_tt  \\\n",
      "0    29476       41    29483       46  5876274   29990      76       95   \n",
      "1    29456       41    29462       46  5876275   29866      74       95   \n",
      "2    36772       50    36778       56  5876278   33541     116      137   \n",
      "3    36898       49    36904       56  5876279   33720     119      141   \n",
      "4    29411       40    29418       44  5878128   29944      75       95   \n",
      "\n",
      "   pt_r_d  pt_r_t  pt_r_tt    to_id  walk_d  walk_t    GML_ID   NAMEFIN  \\\n",
      "0   24984      77       99  5975375   25532     365  27517366  Helsinki   \n",
      "1   24860      75       93  5975375   25408     363  27517366  Helsinki   \n",
      "2   44265     130      146  5975375   31110     444  27517366  Helsinki   \n",
      "3   44444     132      155  5975375   31289     447  27517366  Helsinki   \n",
      "4   24938      76       99  5975375   25486     364  27517366  Helsinki   \n",
      "\n",
      "       NAMESWE NATCODE                                           geometry  \n",
      "0  Helsingfors     091  POLYGON ((402250.000 6685750.000, 402024.224 6...  \n",
      "1  Helsingfors     091  POLYGON ((402367.890 6685750.000, 402250.000 6...  \n",
      "2  Helsingfors     091  POLYGON ((403250.000 6685750.000, 403148.515 6...  \n",
      "3  Helsingfors     091  POLYGON ((403456.484 6685750.000, 403250.000 6...  \n",
      "4  Helsingfors     091  POLYGON ((402000.000 6685500.000, 401900.425 6...  \n"
     ]
    }
   ],
   "source": [
    "print(intersection.head())"
   ]
  },
  {
   "cell_type": "markdown",
   "metadata": {},
   "source": [
    "As we can see, due to the overlay analysis, the dataset contains the attributes from both input layers.\n",
    "\n",
    "- Let's save our result grid as a GeoJSON file that is commonly used file format nowadays for storing spatial data.\n"
   ]
  },
  {
   "cell_type": "code",
   "execution_count": 7,
   "metadata": {},
   "outputs": [],
   "source": [
    "# Output filepath\n",
    "outfp = \"data/TravelTimes_to_5975375_RailwayStation_Helsinki.geojson\"\n",
    "\n",
    "# Use GeoJSON driver\n",
    "intersection.to_file(outfp, driver=\"GeoJSON\")"
   ]
  },
  {
   "cell_type": "markdown",
   "metadata": {},
   "source": [
    "There are many more examples for different types of overlay analysis in [Geopandas documentation](http://geopandas.org/set_operations.html) where you can go and learn more."
   ]
  },
  {
   "cell_type": "markdown",
   "metadata": {},
   "source": [
    "## Aggregating data\n",
    "\n",
    "Data aggregation refers to a process where we combine data into groups. When doing spatial data aggregation, we merge the geometries together into coarser units (based on some attribute), and can also calculate summary statistics for these combined geometries from the original, more detailed values. For example, suppose that we are interested in studying continents, but we only have country-level data like the country dataset. If we aggregate the data by continent, we would convert the country-level data into a continent-level dataset.\n",
    "\n",
    "In this tutorial, we will aggregate our travel time data by car travel times (column `car_r_t`), i.e. the grid cells that have the same travel time to Railway Station will be merged together.\n",
    "\n",
    "- For doing the aggregation we will use a function called `dissolve()` that takes as input the column that will be used for conducting the aggregation:\n"
   ]
  },
  {
   "cell_type": "code",
   "execution_count": 8,
   "metadata": {},
   "outputs": [
    {
     "name": "stdout",
     "output_type": "stream",
     "text": [
      "                                                  geometry  car_m_d  car_m_t  \\\n",
      "car_r_t                                                                        \n",
      "-1       MULTIPOLYGON (((388000.000 6668750.000, 387750...       -1       -1   \n",
      " 0       POLYGON ((386000.000 6672000.000, 385750.000 6...        0        0   \n",
      " 7       POLYGON ((386250.000 6671750.000, 386000.000 6...     1051        7   \n",
      " 8       MULTIPOLYGON (((386250.000 6671500.000, 386000...     1286        8   \n",
      " 9       MULTIPOLYGON (((386500.000 6671250.000, 386250...     1871        9   \n",
      "\n",
      "         car_r_d  from_id  pt_m_d  pt_m_t  pt_m_tt  pt_r_d  pt_r_t  pt_r_tt  \\\n",
      "car_r_t                                                                       \n",
      "-1            -1  5913094      -1      -1       -1      -1      -1       -1   \n",
      " 0             0  5975375       0       0        0       0       0        0   \n",
      " 7          1051  5973739     617       5        6     617       5        6   \n",
      " 8          1286  5973736     706      10       10     706      10       10   \n",
      " 9          1871  5970457    1384      11       13    1394      11       12   \n",
      "\n",
      "           to_id  walk_d  walk_t    GML_ID   NAMEFIN      NAMESWE NATCODE  \n",
      "car_r_t                                                                    \n",
      "-1            -1      -1      -1  27517366  Helsinki  Helsingfors     091  \n",
      " 0       5975375       0       0  27517366  Helsinki  Helsingfors     091  \n",
      " 7       5975375     448       6  27517366  Helsinki  Helsingfors     091  \n",
      " 8       5975375     706      10  27517366  Helsinki  Helsingfors     091  \n",
      " 9       5975375    1249      18  27517366  Helsinki  Helsingfors     091  \n"
     ]
    }
   ],
   "source": [
    "# Conduct the aggregation\n",
    "dissolved = intersection.dissolve(by=\"car_r_t\")\n",
    "\n",
    "# What did we get\n",
    "print(dissolved.head())"
   ]
  },
  {
   "cell_type": "markdown",
   "metadata": {},
   "source": [
    "- Let's compare the number of cells in the layers before and after the aggregation:"
   ]
  },
  {
   "cell_type": "code",
   "execution_count": 9,
   "metadata": {},
   "outputs": [
    {
     "name": "stdout",
     "output_type": "stream",
     "text": [
      "Rows in original intersection GeoDataFrame: 3826\n",
      "Rows in dissolved layer: 51\n"
     ]
    }
   ],
   "source": [
    "print('Rows in original intersection GeoDataFrame:', len(intersection))\n",
    "print('Rows in dissolved layer:', len(dissolved))"
   ]
  },
  {
   "cell_type": "markdown",
   "metadata": {},
   "source": [
    "Indeed the number of rows in our data has decreased and the Polygons were merged together.\n",
    "\n",
    "What actually happened here? Let's take a closer look. \n",
    "\n",
    "- Let's see what columns we have now in our GeoDataFrame:"
   ]
  },
  {
   "cell_type": "code",
   "execution_count": 10,
   "metadata": {},
   "outputs": [
    {
     "name": "stdout",
     "output_type": "stream",
     "text": [
      "Index(['geometry', 'car_m_d', 'car_m_t', 'car_r_d', 'from_id', 'pt_m_d',\n",
      "       'pt_m_t', 'pt_m_tt', 'pt_r_d', 'pt_r_t', 'pt_r_tt', 'to_id', 'walk_d',\n",
      "       'walk_t', 'GML_ID', 'NAMEFIN', 'NAMESWE', 'NATCODE'],\n",
      "      dtype='object')\n"
     ]
    }
   ],
   "source": [
    "print(dissolved.columns)"
   ]
  },
  {
   "cell_type": "markdown",
   "metadata": {},
   "source": [
    "As we can see, the column that we used for conducting the aggregation (`car_r_t`) can not be found from the columns list anymore. What happened to it?\n",
    "\n",
    "- Let's take a look at the indices of our GeoDataFrame:"
   ]
  },
  {
   "cell_type": "code",
   "execution_count": 11,
   "metadata": {},
   "outputs": [
    {
     "name": "stdout",
     "output_type": "stream",
     "text": [
      "Int64Index([-1,  0,  7,  8,  9, 10, 11, 12, 13, 14, 15, 16, 17, 18, 19, 20, 21,\n",
      "            22, 23, 24, 25, 26, 27, 28, 29, 30, 31, 32, 33, 34, 35, 36, 37, 38,\n",
      "            39, 40, 41, 42, 43, 44, 45, 46, 47, 48, 49, 50, 51, 52, 53, 54,\n",
      "            56],\n",
      "           dtype='int64', name='car_r_t')\n"
     ]
    }
   ],
   "source": [
    "print(dissolved.index)"
   ]
  },
  {
   "cell_type": "markdown",
   "metadata": {},
   "source": [
    "Aha! Well now we understand where our column went. It is now used as index in our `dissolved` GeoDataFrame. \n",
    "\n",
    "- Now, we can for example select only such geometries from the layer that are for example exactly 15 minutes away from the Helsinki Railway Station:"
   ]
  },
  {
   "cell_type": "code",
   "execution_count": 12,
   "metadata": {},
   "outputs": [
    {
     "data": {
      "text/plain": [
       "geometry    (POLYGON ((388250.0001354316 6668750.000042891...\n",
       "car_m_d                                                 12035\n",
       "car_m_t                                                    18\n",
       "car_r_d                                                 11997\n",
       "from_id                                               5903886\n",
       "pt_m_d                                                  11568\n",
       "pt_m_t                                                     30\n",
       "pt_m_tt                                                    36\n",
       "pt_r_d                                                  11568\n",
       "pt_r_t                                                     34\n",
       "pt_r_tt                                                    37\n",
       "to_id                                                 5975375\n",
       "walk_d                                                  11638\n",
       "walk_t                                                    166\n",
       "GML_ID                                               27517366\n",
       "NAMEFIN                                              Helsinki\n",
       "NAMESWE                                           Helsingfors\n",
       "NATCODE                                                   091\n",
       "Name: 20, dtype: object"
      ]
     },
     "execution_count": 12,
     "metadata": {},
     "output_type": "execute_result"
    }
   ],
   "source": [
    "# Select only geometries that are within 15 minutes away\n",
    "dissolved.iloc[15]"
   ]
  },
  {
   "cell_type": "code",
   "execution_count": 13,
   "metadata": {},
   "outputs": [
    {
     "name": "stdout",
     "output_type": "stream",
     "text": [
      "<class 'pandas.core.series.Series'>\n"
     ]
    }
   ],
   "source": [
    "# See the data type\n",
    "print(type(dissolved.iloc[15]))"
   ]
  },
  {
   "cell_type": "code",
   "execution_count": 14,
   "metadata": {},
   "outputs": [
    {
     "name": "stdout",
     "output_type": "stream",
     "text": [
      "geometry    (POLYGON ((388250.0001354316 6668750.000042891...\n",
      "car_m_d                                                 12035\n",
      "car_m_t                                                    18\n",
      "car_r_d                                                 11997\n",
      "from_id                                               5903886\n",
      "Name: 20, dtype: object\n"
     ]
    }
   ],
   "source": [
    "# See the data\n",
    "print(dissolved.iloc[15].head())"
   ]
  },
  {
   "cell_type": "markdown",
   "metadata": {},
   "source": [
    "As we can see, as a result, we have now a Pandas `Series` object containing basically one row from our original aggregated GeoDataFrame.\n",
    "\n",
    "Let's also visualize those 15 minute grid cells.\n",
    "\n",
    "- First, we need to convert the selected row back to a GeoDataFrame:"
   ]
  },
  {
   "cell_type": "code",
   "execution_count": 15,
   "metadata": {},
   "outputs": [],
   "source": [
    "# Create a GeoDataFrame\n",
    "selection = gpd.GeoDataFrame([dissolved.iloc[15]], crs=dissolved.crs)"
   ]
  },
  {
   "cell_type": "markdown",
   "metadata": {},
   "source": [
    "- Plot the selection on top of the entire grid:"
   ]
  },
  {
   "cell_type": "code",
   "execution_count": 16,
   "metadata": {},
   "outputs": [
    {
     "data": {
      "text/plain": [
       "<matplotlib.axes._subplots.AxesSubplot at 0x1310ca10160>"
      ]
     },
     "execution_count": 16,
     "metadata": {},
     "output_type": "execute_result"
    },
    {
     "data": {
      "image/png": "[encoded data removed]",
      "text/plain": [
       "<Figure size 432x288 with 1 Axes>"
      ]
     },
     "metadata": {
      "needs_background": "light"
     },
     "output_type": "display_data"
    }
   ],
   "source": [
    "# Plot all the grid cells, and the grid cells that are 15 minutes a way from the Railway Station\n",
    "ax = dissolved.plot(facecolor='gray')\n",
    "selection.plot(ax=ax, facecolor='red')"
   ]
  },
  {
   "cell_type": "markdown",
   "metadata": {},
   "source": [
    "## Simplifying geometries"
   ]
  },
  {
   "cell_type": "markdown",
   "metadata": {},
   "source": [
    "Sometimes it might be useful to be able to simplify geometries. This could be something to consider for example when you have very detailed spatial features that cover the whole world. If you make a map that covers the whole world, it is unnecessary to have really detailed geometries because it is simply impossible to see those small details from your map. Furthermore, it takes a long time to actually render a large quantity of features into a map. Here, we will see how it is possible to simplify geometric features in Python.\n",
    "\n",
    "As an example we will use data representing the Amazon river in South America, and simplify it's geometries.\n",
    "\n",
    "- Let's first read the data and see how the river looks like:"
   ]
  },
  {
   "cell_type": "code",
   "execution_count": 25,
   "metadata": {},
   "outputs": [
    {
     "name": "stdout",
     "output_type": "stream",
     "text": [
      "PROJCS[\"Mercator_2SP\",GEOGCS[\"GCS_GRS 1980(IUGG, 1980)\",DATUM[\"D_unknown\",SPHEROID[\"GRS80\",6378137,298.257222101]],PRIMEM[\"Unknown\",0],UNIT[\"Degree\",0.0174532925199433]],PROJECTION[\"Mercator_2SP\"],PARAMETER[\"standard_parallel_1\",-2],PARAMETER[\"central_meridian\",-43],PARAMETER[\"false_easting\",5000000],PARAMETER[\"false_northing\",10000000],UNIT[\"metre\",1,AUTHORITY[\"EPSG\",\"9001\"]],AXIS[\"Easting\",EAST],AXIS[\"Northing\",NORTH]]\n"
     ]
    },
    {
     "data": {
      "image/png": "[encoded data removed]",
      "text/plain": [
       "<Figure size 432x288 with 1 Axes>"
      ]
     },
     "metadata": {
      "needs_background": "light"
     },
     "output_type": "display_data"
    }
   ],
   "source": [
    "import geopandas as gpd\n",
    "\n",
    "# File path\n",
    "fp = \"data/Amazon_river.shp\"\n",
    "data = gpd.read_file(fp)\n",
    "\n",
    "# Print crs\n",
    "print(data.crs)\n",
    "\n",
    "# Plot the river\n",
    "data.plot();"
   ]
  },
  {
   "cell_type": "markdown",
   "metadata": {},
   "source": [
    "The LineString that is presented here is quite detailed, so let's see how we can generalize them a bit. As we can see from the coordinate reference system, the data is projected in a metric system using [Mercator projection based on SIRGAS datum](http://spatialreference.org/ref/sr-org/7868/). \n",
    "\n",
    "- Generalization can be done easily by using a Shapely function called `.simplify()`. The `tolerance` parameter can be used to adjusts how much geometries should be generalized. **The tolerance value is tied to the coordinate system of the geometries**. Hence, the value we pass here is 20 000 **meters** (20 kilometers).\n",
    "\n"
   ]
  },
  {
   "cell_type": "code",
   "execution_count": 26,
   "metadata": {
    "scrolled": true
   },
   "outputs": [
    {
     "data": {
      "text/plain": [
       "<matplotlib.axes._subplots.AxesSubplot at 0x1310c6b7390>"
      ]
     },
     "execution_count": 26,
     "metadata": {},
     "output_type": "execute_result"
    },
    {
     "data": {
      "image/png": "[encoded data removed]",
      "text/plain": [
       "<Figure size 432x288 with 1 Axes>"
      ]
     },
     "metadata": {
      "needs_background": "light"
     },
     "output_type": "display_data"
    }
   ],
   "source": [
    "# Generalize geometry\n",
    "data2 = data.copy()\n",
    "data2['geom_gen'] = data2.simplify(tolerance=20000)\n",
    "\n",
    "# Set geometry to be our new simlified geometry\n",
    "data2 = data2.set_geometry('geom_gen')\n",
    "\n",
    "# Plot \n",
    "data2.plot()"
   ]
  },
  {
   "cell_type": "code",
   "execution_count": 27,
   "metadata": {},
   "outputs": [
    {
     "data": {
      "image/png": "[encoded data removed]",
      "text/plain": [
       "<Figure size 1440x1152 with 2 Axes>"
      ]
     },
     "metadata": {
      "needs_background": "light"
     },
     "output_type": "display_data"
    }
   ],
   "source": [
    "# plot them side-by-side\n",
    "%matplotlib inline\n",
    "import matplotlib.pyplot as plt\n",
    "\n",
    "#basic config\n",
    "fig, (ax1,ax2) = plt.subplots(nrows=1, ncols=2, figsize=(20, 16))\n",
    "#ax1, ax2 = axes\n",
    "\n",
    "#1st plot\n",
    "ax1 = data.plot(ax=ax1, color='red', alpha=0.5)\n",
    "ax1.set_title('Original')\n",
    "\n",
    "#2nd plot\n",
    "ax2 = data2.plot(ax=ax2, color='orange', alpha=0.5)\n",
    "ax2.set_title('Generalize')\n",
    "# set limit to zoom closer to the area of interest\n",
    "#ax2.set_xlim([380000, 395000])\n",
    "#ax2.set_ylim([6667500, 6680000])\n",
    "\n",
    "fig.tight_layout()"
   ]
  },
  {
   "cell_type": "markdown",
   "metadata": {},
   "source": [
    "Nice! As a result, now we have simplified our LineString quite significantly as we can see from the map."
   ]
  }
 ],
 "metadata": {
  "anaconda-cloud": {},
  "kernelspec": {
   "display_name": "Python 3",
   "language": "python",
   "name": "python3"
  },
  "language_info": {
   "codemirror_mode": {
    "name": "ipython",
    "version": 3
   },
   "file_extension": ".py",
   "mimetype": "text/x-python",
   "name": "python",
   "nbconvert_exporter": "python",
   "pygments_lexer": "ipython3",
   "version": "3.6.10"
  }
 },
 "nbformat": 4,
 "nbformat_minor": 4
}

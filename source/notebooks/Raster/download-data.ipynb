{
 "cells": [
  {
   "cell_type": "markdown",
   "metadata": {},
   "source": [
    "## Automated data download"
   ]
  },
  {
   "cell_type": "code",
   "execution_count": null,
   "metadata": {},
   "outputs": [],
   "source": [
    "import os\n",
    "import urllib"
   ]
  },
  {
   "cell_type": "code",
   "execution_count": null,
   "metadata": {},
   "outputs": [],
   "source": [
    "def get_filename(url):\n",
    "    \"\"\"\n",
    "    Parses filename from given url\n",
    "    \"\"\"\n",
    "    if url.find('/'):\n",
    "        return url.rsplit('/', 1)[1]"
   ]
  },
  {
   "cell_type": "code",
   "execution_count": null,
   "metadata": {},
   "outputs": [],
   "source": [
    "# Filepaths\n",
    "outdir = r\"data\"\n",
    "\n",
    "# File locations\n",
    "url_list = [\"http://www.nic.funet.fi/index/geodata/mml/korkeusmalli2m/2017/L4/L41/L4133A.tif\",\n",
    "            \"http://www.nic.funet.fi/index/geodata/mml/korkeusmalli2m/2017/L4/L41/L4133B.tif\",\n",
    "            \"http://www.nic.funet.fi/index/geodata/mml/korkeusmalli2m/2017/L4/L41/L4133C.tif\",\n",
    "            \"http://www.nic.funet.fi/index/geodata/mml/korkeusmalli2m/2017/L4/L41/L4133D.tif\",\n",
    "            \"http://www.nic.funet.fi/index/geodata/mml/korkeusmalli2m/2017/L4/L41/L4133E.tif\",\n",
    "            \"http://www.nic.funet.fi/index/geodata/mml/korkeusmalli2m/2017/L4/L41/L4133F.tif\",\n",
    "\n",
    "            \"http://www.nic.funet.fi/index/geodata/mml/korkeusmalli2m/2017/L4/L41/L4134A.tif\",\n",
    "            \"http://www.nic.funet.fi/index/geodata/mml/korkeusmalli2m/2017/L4/L41/L4134B.tif\",\n",
    "            \"http://www.nic.funet.fi/index/geodata/mml/korkeusmalli2m/2017/L4/L41/L4134C.tif\",\n",
    "            \"http://www.nic.funet.fi/index/geodata/mml/korkeusmalli2m/2017/L4/L41/L4134D.tif\",\n",
    "            \"http://www.nic.funet.fi/index/geodata/mml/korkeusmalli2m/2017/L4/L41/L4134E.tif\",\n",
    "            \"http://www.nic.funet.fi/index/geodata/mml/korkeusmalli2m/2017/L4/L41/L4134F.tif\",\n",
    "\n",
    "            \"https://etsin.avointiede.fi/storage/f/paituli/ehdot/Latuviitta_ehdot.pdf\",\n",
    "            \"https://etsin.avointiede.fi/storage/f/paituli/ehdot/MML_ehdot_CC.txt\",\n",
    "            \"https://github.com/Automating-GIS-processes/CSC18/raw/master/data/Helsinki_masked_p188r018_7t20020529_z34__LV-FIN.tif\"\n",
    "            ]"
   ]
  },
  {
   "cell_type": "code",
   "execution_count": null,
   "metadata": {},
   "outputs": [],
   "source": [
    "# Create folder if it does no exist\n",
    "if not os.path.exists(outdir):\n",
    "    os.makedirs(outdir)"
   ]
  },
  {
   "cell_type": "code",
   "execution_count": null,
   "metadata": {},
   "outputs": [],
   "source": [
    "# Download files\n",
    "for url in url_list:\n",
    "    # Parse filename\n",
    "    fname = get_filename(url)\n",
    "    \n",
    "    # Create output filepath \n",
    "    outfp = os.path.join(outdir, fname)\n",
    "    \n",
    "    # Download the file if it does not exist already\n",
    "    if not os.path.exists(outfp):\n",
    "        print(\"Downloading\", fname)\n",
    "        \n",
    "        try: \n",
    "            r = urllib.request.urlretrieve(url, outfp)\n",
    "            \n",
    "        except:\n",
    "            print(\"skipping\", fname)"
   ]
  },
  {
   "cell_type": "code",
   "execution_count": null,
   "metadata": {},
   "outputs": [],
   "source": []
  }
 ],
 "metadata": {
  "kernelspec": {
   "display_name": "Python [conda env:grading]",
   "language": "python",
   "name": "conda-env-grading-py"
  },
  "language_info": {
   "codemirror_mode": {
    "name": "ipython",
    "version": 3
   },
   "file_extension": ".py",
   "mimetype": "text/x-python",
   "name": "python",
   "nbconvert_exporter": "python",
   "pygments_lexer": "ipython3",
   "version": "3.7.4"
  }
 },
 "nbformat": 4,
 "nbformat_minor": 4
}
